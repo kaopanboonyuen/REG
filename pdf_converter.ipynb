{
 "cells": [
  {
   "cell_type": "markdown",
   "id": "fdcbee60",
   "metadata": {},
   "source": [
    "# PDF Conversion in Jupyter Notebook\n",
    "\n",
    "Welcome to this Jupyter Notebook! In this notebook, we will demonstrate how to create a PDF converter using Python libraries. The converter will handle the conversion of PDF files and provide a simple user interface for ease of use.\n",
    "\n",
    "- Dev by Kao Panboonyuen"
   ]
  },
  {
   "cell_type": "code",
   "execution_count": 1,
   "id": "866864e2",
   "metadata": {},
   "outputs": [],
   "source": [
    "import fitz  # PyMuPDF\n",
    "from reportlab.lib.pagesizes import letter\n",
    "from reportlab.pdfgen import canvas\n",
    "from PyPDF2 import PdfReader, PdfWriter\n",
    "import io\n",
    "import tempfile\n",
    "import os"
   ]
  },
  {
   "cell_type": "markdown",
   "id": "f59d60af",
   "metadata": {},
   "source": [
    "## PDF Conversion Function\n",
    "\n",
    "This section contains the code for converting PDF files. We will use the `PyPDF2` library to read and write PDFs."
   ]
  },
  {
   "cell_type": "code",
   "execution_count": null,
   "id": "0528a1e2",
   "metadata": {},
   "outputs": [],
   "source": [
    "def optimize_pdf(input_pdf_path, output_pdf_path, dpi=300):\n",
    "    # Open the original PDF\n",
    "    pdf_document = fitz.open(input_pdf_path)\n",
    "    \n",
    "    # Create a new PDF with optimized content\n",
    "    output = PdfWriter()\n",
    "    \n",
    "    for page_num in range(len(pdf_document)):\n",
    "        page = pdf_document.load_page(page_num)\n",
    "        pix = page.get_pixmap(matrix=fitz.Matrix(dpi / 72, dpi / 72))  # Set resolution\n",
    "        \n",
    "        # Create a temporary file to save the image\n",
    "        with tempfile.NamedTemporaryFile(delete=False, suffix='.png') as temp_img_file:\n",
    "            img_path = temp_img_file.name\n",
    "            pix.save(img_path)\n",
    "        \n",
    "        # Convert image to PDF page using ReportLab\n",
    "        packet = io.BytesIO()\n",
    "        can = canvas.Canvas(packet, pagesize=(pix.width, pix.height))\n",
    "        can.drawImage(img_path, 0, 0, width=pix.width, height=pix.height)\n",
    "        can.save()\n",
    "        \n",
    "        # Merge image PDF into the new PDF\n",
    "        packet.seek(0)\n",
    "        new_pdf = PdfReader(packet)\n",
    "        output.add_page(new_pdf.pages[0])\n",
    "        \n",
    "        # Remove the temporary image file\n",
    "        os.remove(img_path)\n",
    "    \n",
    "    # Write the optimized PDF to output\n",
    "    with open(output_pdf_path, \"wb\") as f:\n",
    "        output.write(f)\n",
    "    \n",
    "    print(f\"PDF optimized and saved to {output_pdf_path}\")\n",
    "\n",
    "def main(input_pdf_path, output_pdf_path):\n",
    "    optimize_pdf(input_pdf_path, output_pdf_path)\n"
   ]
  },
  {
   "cell_type": "markdown",
   "id": "6a1222bd",
   "metadata": {},
   "source": [
    "## Interactive User Interface\n",
    "\n",
    "In this section, we will create an interactive user interface using IPython widgets. This will allow us to input file paths and trigger the PDF conversion process through a graphical interface."
   ]
  },
  {
   "cell_type": "code",
   "execution_count": null,
   "id": "767f40ee",
   "metadata": {},
   "outputs": [],
   "source": [
    "input_pdf_path = 'paper/Panboonyuen_REG_Refined_Generalized_Focal_Loss.pdf'\n",
    "output_pdf_path = 'Panboonyuen_REG_Refined_Generalized_Focal_Loss_toArxiv.pdf'\n",
    "\n",
    "main(input_pdf_path, output_pdf_path)"
   ]
  }
 ],
 "metadata": {
  "hide_input": false,
  "kernelspec": {
   "display_name": "Python 3 (ipykernel)",
   "language": "python",
   "name": "python3"
  },
  "language_info": {
   "codemirror_mode": {
    "name": "ipython",
    "version": 3
   },
   "file_extension": ".py",
   "mimetype": "text/x-python",
   "name": "python",
   "nbconvert_exporter": "python",
   "pygments_lexer": "ipython3",
   "version": "3.7.13"
  },
  "toc": {
   "base_numbering": 1,
   "nav_menu": {},
   "number_sections": true,
   "sideBar": true,
   "skip_h1_title": false,
   "title_cell": "Table of Contents",
   "title_sidebar": "Contents",
   "toc_cell": false,
   "toc_position": {},
   "toc_section_display": true,
   "toc_window_display": false
  }
 },
 "nbformat": 4,
 "nbformat_minor": 5
}
